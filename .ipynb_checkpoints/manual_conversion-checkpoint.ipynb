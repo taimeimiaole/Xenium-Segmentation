{
 "cells": [
  {
   "cell_type": "markdown",
   "id": "ad83efca",
   "metadata": {},
   "source": [
    "# Convert Annotations to Parseable Data"
   ]
  },
  {
   "cell_type": "code",
   "execution_count": 11,
   "id": "fe41859f",
   "metadata": {},
   "outputs": [
    {
     "name": "stdout",
     "output_type": "stream",
     "text": [
      "CSV file saved to /media/yhs/5596744f-db7c-442f-9235-d0c9d50c0a6b/export/manual_annotations/cellids0.csv\n",
      "Error processing 09253-05421.roi: 'x'\n",
      "Error processing 04456-12122.roi: 'x'\n",
      "Error processing 13572-04841.roi: 'x'\n",
      "Error processing 07510-16932.roi: 'x'\n",
      "Error processing 07418-10856.roi: 'x'\n",
      "Error processing 16630-10213.roi: 'x'\n",
      "Error processing 06851-07694.roi: 'x'\n",
      "Error processing 14716-12918.roi: 'x'\n",
      "Error processing 11435-08107.roi: 'x'\n",
      "Error processing 04649-15772.roi: 'x'\n",
      "CSV file saved to /media/yhs/5596744f-db7c-442f-9235-d0c9d50c0a6b/export/manual_annotations/cellids1.csv\n",
      "CSV file saved to /media/yhs/5596744f-db7c-442f-9235-d0c9d50c0a6b/export/manual_annotations/cellids2.csv\n",
      "CSV file saved to /media/yhs/5596744f-db7c-442f-9235-d0c9d50c0a6b/export/manual_annotations/cellids3.csv\n",
      "CSV file saved to /media/yhs/5596744f-db7c-442f-9235-d0c9d50c0a6b/export/manual_annotations/cellids4.csv\n"
     ]
    }
   ],
   "source": [
    "import pandas as pd\n",
    "import os\n",
    "import gc\n",
    "from read_roi import read_roi_file\n",
    "list_folders = os.listdir('/media/yhs/5596744f-db7c-442f-9235-d0c9d50c0a6b/export/RoiSet')\n",
    "list_folders.sort()\n",
    "folder_path = '/media/yhs/5596744f-db7c-442f-9235-d0c9d50c0a6b/export/manual_annotations'\n",
    "os.makedirs(folder_path, exist_ok=True) \n",
    "\n",
    "for i in range(len(list_folders)):\n",
    "    # Specify the folder path containing the .roi files\n",
    "    roi_folder = '/media/yhs/5596744f-db7c-442f-9235-d0c9d50c0a6b/export/RoiSet/'+list_folders[i]  # Replace with the actual folder path\n",
    "\n",
    "    # Initialize empty lists to store the coordinates and cell IDs\n",
    "    final_x = []\n",
    "    final_y = []\n",
    "    final_l = []\n",
    "\n",
    "    # Get a list of all .roi files in the specified folder\n",
    "    dir_list = [f for f in os.listdir(roi_folder) if f.endswith('.roi')]\n",
    "\n",
    "    # Loop through each ROI file in the folder\n",
    "    for roi_file in dir_list:\n",
    "        try:\n",
    "            # Construct the full path to the ROI file\n",
    "            roi_path = os.path.join(roi_folder, roi_file)\n",
    "        \n",
    "            # Read the ROI file\n",
    "            roi = read_roi_file(roi_path)\n",
    "            r2 = roi.keys()\n",
    "            name = roi[list(r2)[0]]['name']\n",
    "            x_cord = roi[list(r2)[0]]['x']\n",
    "            y_cord = roi[list(r2)[0]]['y']\n",
    "        \n",
    "            # Append data to the lists\n",
    "            l = [name] * len(x_cord)  # Repeat the name for each point\n",
    "            final_x += x_cord\n",
    "            final_y += y_cord\n",
    "            final_l += l\n",
    "        except Exception as e:\n",
    "            print(f\"Error processing {roi_file}: {e}\")\n",
    "\n",
    "    # Create a DataFrame from the collected data\n",
    "    data = {'cell_id': final_l, 'x': final_x, 'y': final_y}\n",
    "    df = pd.DataFrame.from_dict(data)\n",
    "\n",
    "    # Specify the output CSV file path\n",
    "    output_csv = '/media/yhs/5596744f-db7c-442f-9235-d0c9d50c0a6b/export/manual_annotations/'+'cellids'+str(i)+'.csv'  # Replace with the desired output path\n",
    "\n",
    "    # Save the DataFrame to a CSV file\n",
    "    df.to_csv(output_csv, index=False)\n",
    "\n",
    "    # Clean up memory\n",
    "    gc.collect()\n",
    "\n",
    "    print(f\"CSV file saved to {output_csv}\")\n"
   ]
  }
 ],
 "metadata": {
  "kernelspec": {
   "display_name": "Python 3",
   "language": "python",
   "name": "python3"
  },
  "language_info": {
   "codemirror_mode": {
    "name": "ipython",
    "version": 3
   },
   "file_extension": ".py",
   "mimetype": "text/x-python",
   "name": "python",
   "nbconvert_exporter": "python",
   "pygments_lexer": "ipython3",
   "version": "3.8.8"
  }
 },
 "nbformat": 4,
 "nbformat_minor": 5
}
