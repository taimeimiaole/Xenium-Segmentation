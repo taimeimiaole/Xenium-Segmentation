{
 "cells": [
  {
   "cell_type": "code",
   "execution_count": 2,
   "id": "51f1a9af",
   "metadata": {},
   "outputs": [],
   "source": [
    "import cv2\n",
    "import numpy as np\n",
    "import pandas as pd\n",
    "from PIL import Image\n",
    "import os"
   ]
  },
  {
   "cell_type": "code",
   "execution_count": 4,
   "id": "48082eb1",
   "metadata": {},
   "outputs": [],
   "source": [
    "images = os.listdir('/media/yhs/5596744f-db7c-442f-9235-d0c9d50c0a6b/export/He_Stain')"
   ]
  },
  {
   "cell_type": "code",
   "execution_count": null,
   "id": "09e73b07",
   "metadata": {},
   "outputs": [],
   "source": [
    "#Give path to level 1 resolution H&E stain image\n",
    "He = cv2.imread('/media/yhs/5596744f-db7c-442f-9235-d0c9d50c0a6b/Xenium_segementation/ManuscriptProject/HEstain.jpg')\n",
    "He = cv2.cvtColor(He, cv2.COLOR_BGR2RGB)\n",
    "#Input transformation matrix as a 2x3 array\n",
    "transf = [[2.6226730254167823,-0.008818364576440967,1750.9035186883593], [0.008818364576440967,2.6226730254167823,-5959.989381226922]]\n",
    "res = np.array(transf)\n",
    "#MUST Resize to ST Image level 1\n",
    "He = cv2.warpAffine(He, res, (42698, 64642), borderValue=(255,255,255))"
   ]
  },
  {
   "cell_type": "code",
   "execution_count": null,
   "id": "e40f81cb",
   "metadata": {},
   "outputs": [],
   "source": [
    "#Resize to ideal size/morphology ome size (1:1 ratio)\n",
    "He = cv2.resize(He, dsize=((9073, 13736)), interpolation= cv2.INTER_CUBIC) "
   ]
  },
  {
   "cell_type": "code",
   "execution_count": null,
   "id": "7c5b369f",
   "metadata": {},
   "outputs": [],
   "source": [
    "#Save Image from the H&E Stain\n",
    "img = Image.fromarray(He)\n",
    "img.save(\"/media/yhs/5596744f-db7c-442f-9235-d0c9d50c0a6b/Xenium_segementation/ManuscriptProject/AlignedHEImgs/Aligned_TG1.tif\", subsampling=0, quality=100, format = 'TIFF')"
   ]
  }
 ],
 "metadata": {
  "kernelspec": {
   "display_name": "Python 3",
   "language": "python",
   "name": "python3"
  },
  "language_info": {
   "codemirror_mode": {
    "name": "ipython",
    "version": 3
   },
   "file_extension": ".py",
   "mimetype": "text/x-python",
   "name": "python",
   "nbconvert_exporter": "python",
   "pygments_lexer": "ipython3",
   "version": "3.8.8"
  }
 },
 "nbformat": 4,
 "nbformat_minor": 5
}
