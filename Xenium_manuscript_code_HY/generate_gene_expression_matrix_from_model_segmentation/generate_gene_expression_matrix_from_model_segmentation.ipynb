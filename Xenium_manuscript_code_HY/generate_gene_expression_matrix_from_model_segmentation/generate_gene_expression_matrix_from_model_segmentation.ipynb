{
 "cells": [
  {
   "cell_type": "markdown",
   "id": "ddf07e00",
   "metadata": {},
   "source": [
    "# Generate the Xenium gene expression matrix based on the model predicted cell segementaion"
   ]
  },
  {
   "cell_type": "code",
   "execution_count": null,
   "id": "14233561",
   "metadata": {},
   "outputs": [],
   "source": [
    "#Yolo_ST\n",
    "#DRG1 /media/yhs/5596744f-db7c-442f-9235-d0c9d50c0a6b/FinalProjectPlots/Anna_Images/DRG1STYolo.zip\n",
    "#DRG2 /media/yhs/5596744f-db7c-442f-9235-d0c9d50c0a6b/FinalProjectPlots/Anna_Images/DRG2STYolo.zip\n",
    "#DRG3 /media/yhs/5596744f-db7c-442f-9235-d0c9d50c0a6b/FinalProjectPlots/Anna_Images/DRG3STYolo.zip\n",
    "#DRG4 /media/yhs/5596744f-db7c-442f-9235-d0c9d50c0a6b/FinalProjectPlots/Anna_Images/DRG4STYolo.zip\n",
    "\n",
    "#Cellpose_ST\n",
    "#DRG1 /media/yhs/5596744f-db7c-442f-9235-d0c9d50c0a6b/Cellpose/Updated_Figures/DRG Full Images/DRG1/drg1_orig_roi.zip\n",
    "#DRG2 /media/yhs/5596744f-db7c-442f-9235-d0c9d50c0a6b/Cellpose/Updated_Figures/DRG Full Images/DRG2/drg2_rois.zip\n",
    "#DRG3 /media/yhs/5596744f-db7c-442f-9235-d0c9d50c0a6b/Cellpose/Updated_Figures/DRG Full Images/DRG3/drg3_rois.zip\n",
    "#DRG4 /media/yhs/5596744f-db7c-442f-9235-d0c9d50c0a6b/Cellpose/Updated_Figures/DRG Full Images/DRG4/DRG4cellpose.zip\n",
    "\n",
    "#Manual\n",
    "# Download frome the NN paper: https://www.ncbi.nlm.nih.gov/geo/query/acc.cgi?acc=GSE273557\n",
    "\n",
    "\n",
    "#Updated Yolo_ST\n",
    "#/home/yhs/Downloads/final_yolo_runs/ST/ST_ROIS/DRG1_yoloST_final.zip\n",
    "#/home/yhs/Downloads/final_yolo_runs/ST/ST_ROIS/DRG2_yoloST_final.zip\n",
    "#/home/yhs/Downloads/final_yolo_runs/ST/ST_ROIS/DRG3_yoloST_final.zip\n",
    "#/home/yhs/Downloads/final_yolo_runs/ST/ST_ROIS/DRG4_yoloST_final.zip\n",
    "\n",
    "#Updated Cellpose_ST\n",
    "#/media/yhs/5596744f-db7c-442f-9235-d0c9d50c0a6b/Cellpose/Updated_Figures/DRG Full Images/drg_1_roi.zip\n",
    "#/media/yhs/5596744f-db7c-442f-9235-d0c9d50c0a6b/Cellpose/Updated_Figures/DRG Full Images/drg_2_roi.zip\n",
    "#/media/yhs/5596744f-db7c-442f-9235-d0c9d50c0a6b/Cellpose/Updated_Figures/DRG Full Images/drg_3_roi.zip\n",
    "#/media/yhs/5596744f-db7c-442f-9235-d0c9d50c0a6b/Cellpose/Updated_Figures/DRG Full Images/drg_4_roi.zip\n",
    "\n",
    "#Combo_ST\n",
    "#/media/yhs/5596744f-db7c-442f-9235-d0c9d50c0a6b/FinalProjectPlots/Anna_Images/combination_model (old)/ST/DRG1comboresized.zip\n",
    "#/media/yhs/5596744f-db7c-442f-9235-d0c9d50c0a6b/FinalProjectPlots/Anna_Images/combination_model (old)/ST/DRG2combo.zip\n",
    "#/media/yhs/5596744f-db7c-442f-9235-d0c9d50c0a6b/FinalProjectPlots/Anna_Images/combination_model (old)/ST/DRG3combo.zip\n",
    "#/media/yhs/5596744f-db7c-442f-9235-d0c9d50c0a6b/FinalProjectPlots/Anna_Images/combination_model (old)/ST/DRG4new.zip\n",
    "\n",
    "#DBScan\n",
    "#/media/yhs/5596744f-db7c-442f-9235-d0c9d50c0a6b/Cellpose/DBScan_Rois/drg1_e7_n42.zip\n",
    "#/media/yhs/5596744f-db7c-442f-9235-d0c9d50c0a6b/Cellpose/DBScan_Rois/drg2_e6_n34.zip\n",
    "#/media/yhs/5596744f-db7c-442f-9235-d0c9d50c0a6b/Cellpose/DBScan_Rois/drg3_e8_n56.zip\n",
    "#/media/yhs/5596744f-db7c-442f-9235-d0c9d50c0a6b/Cellpose/DBScan_Rois/drg4_all_e7_n48.zip\n",
    "\n"
   ]
  },
  {
   "cell_type": "markdown",
   "id": "f82c9c37",
   "metadata": {},
   "source": [
    "### Combine all FIJI ROIs into one JSON file"
   ]
  },
  {
   "cell_type": "code",
   "execution_count": 19,
   "id": "392b5f94",
   "metadata": {},
   "outputs": [
    {
     "data": {
      "text/plain": [
       "3"
      ]
     },
     "execution_count": 19,
     "metadata": {},
     "output_type": "execute_result"
    }
   ],
   "source": [
    "# To combine the contents of multiple .roi files into a single .json file, first, we need to extract the .roi files from the zip,\n",
    "# then read each .roi file, and finally, combine their contents into a single dictionary and save it as a .json file.\n",
    "\n",
    "import zipfile\n",
    "import json\n",
    "import read_roi\n",
    "\n",
    "# Path to the zip file containing .roi files\n",
    "zip_file_path = '/media/yhs/5596744f-db7c-442f-9235-d0c9d50c0a6b/Cellpose/DBScan_Rois/drg4_all_e7_n48.zip'\n",
    "\n",
    "# The dictionary to hold all the ROI data\n",
    "combined_roi_data = {}\n",
    "\n",
    "# Open the zip file\n",
    "with zipfile.ZipFile(zip_file_path, 'r') as zip_ref:\n",
    "    # Extract .roi files names\n",
    "    roi_files = [f for f in zip_ref.namelist() if f.endswith('.roi')]\n",
    "    \n",
    "    # Temporary directory to extract files\n",
    "    temp_dir = '/media/yhs/5596744f-db7c-442f-9235-d0c9d50c0a6b/Xenium_segementation/tem'\n",
    "    \n",
    "    # Extract .roi files\n",
    "    zip_ref.extractall(temp_dir)\n",
    "    \n",
    "    # Read each .roi file and add its content to the combined dictionary\n",
    "    for roi_file in roi_files:\n",
    "        # Path to the extracted .roi file\n",
    "        file_path = f\"{temp_dir}/{roi_file}\"\n",
    "        \n",
    "        # Read the .roi file\n",
    "        roi_data = read_roi.read_roi_file(file_path)\n",
    "        \n",
    "        # Combine data\n",
    "        combined_roi_data.update(roi_data)\n",
    "\n",
    "# Define the path for the combined .json file\n",
    "json_file_path = '/media/yhs/5596744f-db7c-442f-9235-d0c9d50c0a6b/Cellpose/DBScan_Rois/drg4_all_e7_n48.json'\n",
    "# Save the combined ROI data to a .json file\n",
    "with open(json_file_path, 'w') as json_file:\n",
    "    json.dump(combined_roi_data, json_file)\n",
    "\n",
    "# Note: Update '/path/to/your/rois.zip' and '/path/to/combined_rois.json' with the actual paths\n",
    "# Also, ensure that the 'read_roi' library is installed and available in your environment\n",
    "3"
   ]
  },
  {
   "cell_type": "markdown",
   "id": "964bf9cc",
   "metadata": {},
   "source": [
    "### Check whether Json file contains bad ROI"
   ]
  },
  {
   "cell_type": "code",
   "execution_count": 20,
   "id": "e3e79f41",
   "metadata": {},
   "outputs": [
    {
     "name": "stdout",
     "output_type": "stream",
     "text": [
      "All cell segmentations meet the criteria.\n"
     ]
    }
   ],
   "source": [
    "import json\n",
    "\n",
    "# Path to the JSON file\n",
    "json_file_path = '/media/yhs/5596744f-db7c-442f-9235-d0c9d50c0a6b/Cellpose/DBScan_Rois/drg4_all_e7_n48.json'\n",
    "# Load the JSON file\n",
    "with open(json_file_path, 'r') as file:\n",
    "    cell_segmentations = json.load(file)\n",
    "\n",
    "# List to keep track of cell segmentations that do not meet the criteria\n",
    "invalid_segmentations = []\n",
    "\n",
    "# Iterate through each cell segmentation\n",
    "for cell_id, seg_info in cell_segmentations.items():\n",
    "    # Initialize a flag to track if the current segmentation is valid\n",
    "    is_valid = True\n",
    "    \n",
    "    # Check if the type is 'freehand'\n",
    "    if seg_info.get('type') != 'freehand':\n",
    "        print(f\"Segmentation {cell_id} does not have type 'freehand'.\")\n",
    "        is_valid = False\n",
    "    \n",
    "    # Check if there are at least 3 'x' and 3 'y' values\n",
    "    if len(seg_info.get('x', [])) < 3 or len(seg_info.get('y', [])) < 3:\n",
    "        print(f\"Segmentation {cell_id} does not contain at least 3 'x' and 3 'y' values.\")\n",
    "        is_valid = False\n",
    "    \n",
    "    # If the segmentation does not meet the criteria, add its ID to the list\n",
    "    if not is_valid:\n",
    "        invalid_segmentations.append(cell_id)\n",
    "\n",
    "# Check if there are any invalid segmentations\n",
    "if invalid_segmentations:\n",
    "    print(\"The following cell segmentations do not meet the criteria:\")\n",
    "    for cell_id in invalid_segmentations:\n",
    "        print(cell_id)\n",
    "else:\n",
    "    print(\"All cell segmentations meet the criteria.\")\n"
   ]
  },
  {
   "cell_type": "markdown",
   "id": "af36a1e8",
   "metadata": {},
   "source": [
    "### (optional) If Json file contains bad ROI, remove these ROI and save a filtered JSON file "
   ]
  },
  {
   "cell_type": "code",
   "execution_count": 48,
   "id": "c7bd5b74",
   "metadata": {},
   "outputs": [
    {
     "name": "stdout",
     "output_type": "stream",
     "text": [
      "Segmentation roi_226 does not contain at least 3 'x' and 3 'y' values.\n",
      "Segmentation roi_278 does not contain at least 3 'x' and 3 'y' values.\n",
      "Segmentation roi_241 does not contain at least 3 'x' and 3 'y' values.\n",
      "Filtered cell segmentations saved to /media/yhs/5596744f-db7c-442f-9235-d0c9d50c0a6b/FinalProjectPlots/Anna_Images/combination_model (old)/ST/DRG4new_correction.json.\n"
     ]
    }
   ],
   "source": [
    "import json\n",
    "\n",
    "# Path to the original JSON file\n",
    "json_file_path = '/media/yhs/5596744f-db7c-442f-9235-d0c9d50c0a6b/Cellpose/DBScan_Rois/drg2_e6_n34.json'\n",
    "\n",
    "# Path to the new JSON file for saving the filtered segmentations_\n",
    "new_json_file_path = '/media/yhs/5596744f-db7c-442f-9235-d0c9d50c0a6b/FinalProjectPlots/Anna_Images/combination_model (old)/ST/DRG4new_correction.json'\n",
    "\n",
    "# Load the JSON file\n",
    "with open(json_file_path, 'r') as file:\n",
    "    cell_segmentations = json.load(file)\n",
    "\n",
    "# Dictionary to keep the valid cell segmentations\n",
    "valid_segmentations = {}\n",
    "\n",
    "# Iterate through each cell segmentation\n",
    "for cell_id, seg_info in cell_segmentations.items():\n",
    "    # Check if the segmentation meets the criteria:\n",
    "    # 1. Type is 'freehand'\n",
    "    # 2. Contains at least 3 'x' and 3 'y' values\n",
    "    if seg_info.get('type') == 'freehand':\n",
    "        if len(seg_info.get('x', [])) >= 3 and len(seg_info.get('y', [])) >= 3:\n",
    "            valid_segmentations[cell_id] = seg_info\n",
    "        else:\n",
    "            print(f\"Segmentation {cell_id} does not contain at least 3 'x' and 3 'y' values.\")\n",
    "    else:\n",
    "        print(f\"Segmentation {cell_id} does not have type 'freehand'.\")\n",
    "\n",
    "# Save the valid segmentations to a new JSON file\n",
    "with open(new_json_file_path, 'w') as new_file:\n",
    "    json.dump(valid_segmentations, new_file, indent=4)\n",
    "\n",
    "print(f\"Filtered cell segmentations saved to {new_json_file_path}.\")\n"
   ]
  },
  {
   "cell_type": "markdown",
   "id": "77dd4b09",
   "metadata": {},
   "source": [
    "### Read the Xenium transcript.csv data and map each gene expression in the new cell segemenation and save a gene expression matrix. csv file "
   ]
  },
  {
   "cell_type": "code",
   "execution_count": 21,
   "id": "e8672874",
   "metadata": {},
   "outputs": [],
   "source": [
    "## Remap the transcript to the new segementation\n",
    "\n",
    "import json\n",
    "import pandas as pd\n",
    "from matplotlib.path import Path\n",
    "\n",
    "# Load the JSON file with cell segmentation information\n",
    "with open('/media/yhs/5596744f-db7c-442f-9235-d0c9d50c0a6b/Cellpose/DBScan_Rois/drg4_all_e7_n48.json', 'r') as f:\n",
    "    cell_segmentations = json.load(f)\n",
    "\n",
    "# Load the CSV file with spatial sequencing data\n",
    "spatial_data = pd.read_csv('/media/yhs/5596744f-db7c-442f-9235-d0c9d50c0a6b/Xenium_segementation/Xenium_output/output-XETG00171__0018220__Region_4__20240207__003742/transcripts.csv')\n",
    "\n",
    "# Prepare a dictionary to hold the count of dots for each gene in each cell segmentation, excluding certain genes\n",
    "counts = {}\n",
    "\n",
    "# Iterate through each cell segmentation        \n",
    "for cell_id, seg_info in cell_segmentations.items():\n",
    "    # Convert segmentation points to a path for point-in-polygon test\n",
    "    polygon = list(zip(seg_info['x'], seg_info['y']))\n",
    "    path = Path(polygon)\n",
    "    \n",
    "    # Filter spatial data points that fall within the current cell segmentation\n",
    "    points = spatial_data[['x_location', 'y_location']].values\n",
    "    mask = path.contains_points(points)\n",
    "    filtered_data = spatial_data[mask]\n",
    "    \n",
    "    # Exclude genes with names starting with \"UnassignedCodeword\"\n",
    "    filtered_data = filtered_data[~filtered_data['feature_name'].str.startswith('UnassignedCodeword')]\n",
    "    \n",
    "    # Count the occurrences of each gene within this cell segmentation\n",
    "    gene_counts = filtered_data['feature_name'].value_counts().to_dict()\n",
    "    \n",
    "    # Store the counts for the current cell segmentation\n",
    "    counts[cell_id] = gene_counts\n",
    "\n",
    "# Convert the counts dictionary to a DataFrame for easy manipulation and saving\n",
    "output_df = pd.DataFrame.from_dict(counts, orient='index').fillna(0).astype(int)\n",
    "\n",
    "# Transpose the DataFrame so that genes are rows and cell IDs are columns\n",
    "output_df = output_df.transpose()\n",
    "\n",
    "# Save the output DataFrame to a new CSV file\n",
    "output_df.to_csv('/media/yhs/5596744f-db7c-442f-9235-d0c9d50c0a6b/Cellpose/DBScan_Rois/drg4_e7_n48_prediction_gene_expression_matrix.csv')\n"
   ]
  },
  {
   "cell_type": "markdown",
   "id": "658a99e3-8f57-4853-b882-a3baaf02bb7c",
   "metadata": {},
   "source": [
    "## Combine all DRG gene expression matrix into one csv file"
   ]
  },
  {
   "cell_type": "code",
   "execution_count": null,
   "id": "a28d3a03",
   "metadata": {},
   "outputs": [],
   "source": [
    "import pandas as pd\n",
    "\n",
    "# Dictionary mapping file paths to prefixes\n",
    "csv1=\"/media/yhs/5596744f-db7c-442f-9235-d0c9d50c0a6b/Cellpose/DBScan_Rois/drg1_e7_n42_prediction_gene_expression_matrix.csv\"\n",
    "csv2=\"/media/yhs/5596744f-db7c-442f-9235-d0c9d50c0a6b/Cellpose/DBScan_Rois/drg2_e6_n34_prediction_gene_expression_matrix.csv\"\n",
    "csv3=\"/media/yhs/5596744f-db7c-442f-9235-d0c9d50c0a6b/Cellpose/DBScan_Rois/drg3_e8_n56_prediction_gene_expression_matrix.csv\"\n",
    "csv4=\"/media/yhs/5596744f-db7c-442f-9235-d0c9d50c0a6b/Cellpose/DBScan_Rois/drg4_e7_n48_prediction_gene_expression_matrix.csv\"\n",
    "file_prefix_map = {csv1: \"DBScan_DRG1_\", csv2: \"DBScan_DRG2_\", csv3: \"DBScan_DRG3_\", csv4: \"DBScan_DRG4_\"}\n",
    "\n",
    "# Load each CSV and apply the prefix to column names (cell IDs)\n",
    "dfs = []\n",
    "for filepath, prefix in file_prefix_map.items():\n",
    "    df = pd.read_csv(filepath, index_col=0)\n",
    "    df.columns = [prefix + col for col in df.columns]\n",
    "    dfs.append(df)\n",
    "\n",
    "# Intersect gene names across all files and sort them\n",
    "common_genes = set.intersection(*(set(df.index) for df in dfs))\n",
    "dfs = [df.loc[sorted(common_genes)] for df in dfs]\n",
    "\n",
    "# Concatenate along columns (cell IDs)\n",
    "combined_df = pd.concat(dfs, axis=1)\n",
    "\n",
    "# Optional: sort by gene name again (already sorted above)\n",
    "combined_df = combined_df.sort_index()\n",
    "\n",
    "# Output path\n",
    "output_path = \"/media/yhs/5596744f-db7c-442f-9235-d0c9d50c0a6b/Cellpose/DBScan_Rois/DRG1_2_3_4_DBScan_prediction_gene_expression_matrix.csv\"\n",
    "\n",
    "# Save to CSV\n",
    "combined_df.to_csv(output_path)\n",
    "\n",
    "# Print preview\n",
    "print(\"Combined matrix shape:\", combined_df.shape)\n",
    "print(combined_df.head())\n"
   ]
  },
  {
   "cell_type": "code",
   "execution_count": null,
   "id": "e5106e08",
   "metadata": {},
   "outputs": [],
   "source": []
  }
 ],
 "metadata": {
  "kernelspec": {
   "display_name": "Python 3 (ipykernel)",
   "language": "python",
   "name": "python3"
  },
  "language_info": {
   "codemirror_mode": {
    "name": "ipython",
    "version": 3
   },
   "file_extension": ".py",
   "mimetype": "text/x-python",
   "name": "python",
   "nbconvert_exporter": "python",
   "pygments_lexer": "ipython3",
   "version": "3.11.7"
  }
 },
 "nbformat": 4,
 "nbformat_minor": 5
}
