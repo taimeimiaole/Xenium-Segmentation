{
 "cells": [
  {
   "cell_type": "markdown",
   "id": "72ba2f29",
   "metadata": {},
   "source": [
    "# CSV to ROI of annotations\n"
   ]
  },
  {
   "cell_type": "code",
   "execution_count": null,
   "id": "0fe763f9",
   "metadata": {},
   "outputs": [],
   "source": [
    "#Only run for DRG1-4, TG1 does not need to be scaled\n",
    "df = pd.read_csv('/media/yhs/5596744f-db7c-442f-9235-d0c9d50c0a6b/Rois/DRG4/cellids4.csv')\n",
    "df['x']*=1/4.707\n",
    "df['y']*=1/4.707\n",
    "df.to_csv('/media/yhs/5596744f-db7c-442f-9235-d0c9d50c0a6b/Rois/DRG4/cellids_4.csv', index=False)"
   ]
  },
  {
   "cell_type": "code",
   "execution_count": null,
   "id": "696039e1",
   "metadata": {},
   "outputs": [],
   "source": [
    "#CSV to Roi folder Part 1\n",
    "import pandas as pd\n",
    "import numpy as np\n",
    "from roifile import ImagejRoi, roiwrite\n",
    "import os\n",
    "\n",
    "# Input folder containing CSV files\n",
    "input_folder = '/media/yhs/5596744f-db7c-442f-9235-d0c9d50c0a6b/Rois/TG1'  # Replace with the path to your folder of CSVs\n",
    "# Output folder to store all ROI subfolders\n",
    "output_folder = '/media/yhs/5596744f-db7c-442f-9235-d0c9d50c0a6b/Rois/TG1_ROI'  # Replace with the path to the folder where ROI subfolders will be created\n",
    "os.makedirs(output_folder, exist_ok=True)  # Create the main output folder if it doesn't exist\n",
    "\n",
    "# Loop through each CSV file in the input folder\n",
    "for csv_file in os.listdir(input_folder):\n",
    "    if csv_file.endswith('.csv'):\n",
    "        # Full path to the current CSV file\n",
    "        input_csv_path = os.path.join(input_folder, csv_file)\n",
    "        \n",
    "        # Read the CSV into a DataFrame\n",
    "        data = pd.read_csv(input_csv_path)\n",
    "        \n",
    "        # Create a subfolder for this CSV's ROI files\n",
    "        csv_name = os.path.splitext(csv_file)[0]  # Get the CSV name without the .csv extension\n",
    "        roi_folder = os.path.join(output_folder, csv_name)  # Subfolder for the ROIs of this CSV\n",
    "        os.makedirs(roi_folder, exist_ok=True)  # Create subfolder if it doesn't exist\n",
    "\n",
    "        # Initialize a counter for sequential numbering\n",
    "        roi_counter = 1\n",
    "\n",
    "        # Group by 'Name' and create ROIs for each group\n",
    "        for _, group in data.groupby('cell_id'):\n",
    "            # Extract coordinates\n",
    "            coordinates = group[['x', 'y']].to_numpy()\n",
    "            \n",
    "            # Create an ROI for the cell\n",
    "            roi = ImagejRoi.frompoints(coordinates)\n",
    "            \n",
    "            # Save the ROI with sequential numbering\n",
    "            roi_file = os.path.join(roi_folder, f\"roi_{roi_counter}.roi\")\n",
    "            roiwrite(roi_file, roi)\n",
    "            \n",
    "            # Increment the counter\n",
    "            roi_counter += 1\n",
    "\n",
    "        print(f\"ROIs for {csv_file} saved in {roi_folder}\")\n",
    "\n",
    "print(f\"All CSV files have been processed. ROIs are saved in {output_folder}.\")"
   ]
  },
  {
   "cell_type": "code",
   "execution_count": null,
   "id": "54a519fa",
   "metadata": {},
   "outputs": [],
   "source": [
    "#CSV to ROI part 2 ZIP\n",
    "import os\n",
    "import zipfile\n",
    "\n",
    "# Folder containing the ROI files\n",
    "roi_folder = '/media/yhs/5596744f-db7c-442f-9235-d0c9d50c0a6b/Rois/DRG4_ROI/cellids_4'  # Replace with your folder path\n",
    "zip_file = '/media/yhs/5596744f-db7c-442f-9235-d0c9d50c0a6b/Rois/DRG4_ROI/drg_4_roi.zip'  # Desired ZIP file name\n",
    "\n",
    "# Create a ZIP archive of all ROIs\n",
    "with zipfile.ZipFile(zip_file, 'w') as zipf:\n",
    "    for file in os.listdir(roi_folder):\n",
    "        if file.endswith('.roi'):  # Only include .roi files\n",
    "            file_path = os.path.join(roi_folder, file)\n",
    "            zipf.write(file_path, arcname=file)  # Add file to ZIP archive\n",
    "\n",
    "print(f\"All ROIs zipped into {zip_file}\")\n",
    "os.getcwd()"
   ]
  }
 ],
 "metadata": {
  "kernelspec": {
   "display_name": "Python 3",
   "language": "python",
   "name": "python3"
  },
  "language_info": {
   "codemirror_mode": {
    "name": "ipython",
    "version": 3
   },
   "file_extension": ".py",
   "mimetype": "text/x-python",
   "name": "python",
   "nbconvert_exporter": "python",
   "pygments_lexer": "ipython3",
   "version": "3.8.8"
  }
 },
 "nbformat": 4,
 "nbformat_minor": 5
}
