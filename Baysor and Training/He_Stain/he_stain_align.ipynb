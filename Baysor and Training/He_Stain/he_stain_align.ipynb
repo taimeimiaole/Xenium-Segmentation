{
 "cells": [
  {
   "cell_type": "markdown",
   "id": "62a2ac5c",
   "metadata": {},
   "source": [
    "# Align H&E Stain"
   ]
  },
  {
   "cell_type": "code",
   "execution_count": 1,
   "id": "51f1a9af",
   "metadata": {},
   "outputs": [],
   "source": [
    "import cv2\n",
    "import numpy as np\n",
    "import pandas as pd\n",
    "from PIL import Image\n",
    "import os"
   ]
  },
  {
   "cell_type": "code",
   "execution_count": 2,
   "id": "c0c444d8",
   "metadata": {},
   "outputs": [],
   "source": [
    "images = os.listdir('/media/yhs/5596744f-db7c-442f-9235-d0c9d50c0a6b/export/He_Stain')\n",
    "images.sort()\n",
    "transf_drg1 = [[2.621370442043069,-0.004490027834481599,-522.9210620241865], [0.004490027834481599,2.621370442043069,-1341.9633456191186]]\n",
    "transf_drg2 = [[2.6230296064206615,-0.005287938875761553,1324.1925842607816], [0.005287938875761553,2.6230296064206615,-582.1507194806923]]\n",
    "transf_drg3 = [[2.6207559498003046,-0.0029032457112691456,1192.5775477990246], [0.0029032457112691456,2.6207559498003046,1135.3553540938565]]\n",
    "transf_drg4 = [[2.6221124796484,-0.002705141260560776,3908.264703998989], [0.002705141260560776,2.6221124796484,393.00177372637427]]\n",
    "transf_tg1 = [[2.6226730254167823,-0.008818364576440967,1750.9035186883593], [0.008818364576440967,2.6226730254167823,-5959.989381226922]]\n",
    "tf_matrices = [transf_drg1, transf_drg2, transf_drg3, transf_drg4, transf_tg1]\n",
    "level1_sizes = [(34174, 27280), (22814, 10334), (14330, 20501), (17170, 27295), (42698, 64642)]\n",
    "scale_sizes = [(7261, 5797), (4847, 2195), (3045, 4356), (3648, 5800), (9073, 13736)]"
   ]
  },
  {
   "cell_type": "code",
   "execution_count": 3,
   "id": "0d12a27b",
   "metadata": {},
   "outputs": [],
   "source": [
    "folder_path = '/media/yhs/5596744f-db7c-442f-9235-d0c9d50c0a6b/export/aligned_he'\n",
    "os.makedirs(folder_path, exist_ok=True) "
   ]
  },
  {
   "cell_type": "code",
   "execution_count": 10,
   "id": "62b304c7",
   "metadata": {},
   "outputs": [],
   "source": [
    "images_new = [f for f in images if f.endswith(\".jpg\")]\n",
    "image_names = [filename.split('.jpg')[0] for filename in images_new]"
   ]
  },
  {
   "cell_type": "code",
   "execution_count": 12,
   "id": "09e73b07",
   "metadata": {},
   "outputs": [
    {
     "name": "stdout",
     "output_type": "stream",
     "text": [
      "DRG_area_1.jpg\n",
      "DRG_area_2.jpg\n",
      "DRG_area_3.jpg\n",
      "DRG_area_4.jpg\n",
      "TG_area_1.jpg\n"
     ]
    }
   ],
   "source": [
    "for i in range (len(images_new)):\n",
    "    image_path = images_new[i]\n",
    "    print(image_path)\n",
    "    He = cv2.imread('/media/yhs/5596744f-db7c-442f-9235-d0c9d50c0a6b/export/He_Stain/'+image_path)\n",
    "    He = cv2.cvtColor(He, cv2.COLOR_BGR2RGB)\n",
    "    #Input transformation matrix as a 2x3 array\n",
    "    res = np.array(tf_matrices[i])\n",
    "    #MUST Resize to ST Image level 1\n",
    "    He = cv2.warpAffine(He, res, level1_sizes[i], borderValue=(255,255,255))\n",
    "    #Resize to ideal size/morphology ome size (1:1 ratio)\n",
    "    He = cv2.resize(He, dsize=(scale_sizes[i]), interpolation= cv2.INTER_CUBIC) \n",
    "    #Save Image from the H&E Stain\n",
    "    img = Image.fromarray(He)\n",
    "    img.save(\"/media/yhs/5596744f-db7c-442f-9235-d0c9d50c0a6b/export/aligned_he/\"+image_names[i]+'.tif', subsampling=0, quality=100, format = 'TIFF')"
   ]
  }
 ],
 "metadata": {
  "kernelspec": {
   "display_name": "Python 3",
   "language": "python",
   "name": "python3"
  },
  "language_info": {
   "codemirror_mode": {
    "name": "ipython",
    "version": 3
   },
   "file_extension": ".py",
   "mimetype": "text/x-python",
   "name": "python",
   "nbconvert_exporter": "python",
   "pygments_lexer": "ipython3",
   "version": "3.8.8"
  }
 },
 "nbformat": 4,
 "nbformat_minor": 5
}
