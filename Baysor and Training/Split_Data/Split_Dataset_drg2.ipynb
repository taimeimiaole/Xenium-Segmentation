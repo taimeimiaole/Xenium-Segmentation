{
 "cells": [
  {
   "cell_type": "code",
   "execution_count": null,
   "id": "7a8840ca",
   "metadata": {},
   "outputs": [],
   "source": [
    "#80% Train 10% Valid 10%Test\n",
    "#5% Only Background in each DO NOT DO"
   ]
  },
  {
   "cell_type": "code",
   "execution_count": 9,
   "id": "2166085c",
   "metadata": {},
   "outputs": [],
   "source": [
    "import pandas as pd\n",
    "import os\n",
    "import glob\n",
    "import random\n",
    "import shutil\n",
    "import math"
   ]
  },
  {
   "cell_type": "code",
   "execution_count": 8,
   "id": "bce75f69",
   "metadata": {},
   "outputs": [],
   "source": [
    "from pathlib import Path\n",
    "\n",
    "def copy_and_rename_pathlib(src_path, dest_path, new_name):\n",
    "    # Create Path objects\n",
    "    src_path = Path(src_path)\n",
    "    dest_path = Path(dest_path)\n",
    "\n",
    "    # Copy and rename the file\n",
    "    new_path = dest_path / new_name\n",
    "    src_path.rename(new_path)"
   ]
  },
  {
   "cell_type": "code",
   "execution_count": 7,
   "id": "bbfd0926",
   "metadata": {},
   "outputs": [],
   "source": [
    "#Csv Path to split\n",
    "path = '/media/yhs/5596744f-db7c-442f-9235-d0c9d50c0a6b/export/Batch2/drg2/csv'"
   ]
  },
  {
   "cell_type": "code",
   "execution_count": 10,
   "id": "d4b362e0",
   "metadata": {},
   "outputs": [],
   "source": [
    "files = glob.glob(path + \"/*SegTrans*.csv\") "
   ]
  },
  {
   "cell_type": "code",
   "execution_count": 11,
   "id": "42d849ab",
   "metadata": {},
   "outputs": [],
   "source": [
    "#Get test, training, valid\n",
    "more_than_five = []\n",
    "for i in range(len(files)):\n",
    "    df = pd.read_csv(files[i])\n",
    "    if len(set(list(df['cell_id'])))>=5:\n",
    "        more_than_five.append(files[i])\n",
    "rest = [x for x in files if x not in more_than_five]\n",
    "test_masks = math.ceil(len(more_than_five) * 0.1)\n",
    "valid_masks = math.ceil(len(more_than_five)* 0.1)\n",
    "test_sample1 = random.sample(more_than_five, test_masks)\n",
    "more_than_five2 = [x for x in more_than_five if x not in test_sample1]\n",
    "valid_sample1 = random.sample(more_than_five2, valid_masks)\n",
    "validmasks3 = [x for x in more_than_five2 if x not in valid_sample1]\n",
    "training_sample1 = validmasks3\n",
    "test_masks2 = math.ceil(len(rest)* 0.1)\n",
    "valid_masks2 = math.ceil(len(rest)*0.1)\n",
    "test_sample2 = random.sample(rest, test_masks2)\n",
    "rest_2 = [x for x in rest if x not in test_sample2]\n",
    "valid_sample2 = random.sample(rest_2, valid_masks2)\n",
    "rest_3 = [x for x in rest_2 if x not in valid_sample2]\n",
    "training_sample2 = rest_3"
   ]
  },
  {
   "cell_type": "code",
   "execution_count": 12,
   "id": "3f651c40",
   "metadata": {},
   "outputs": [],
   "source": [
    "#Get the test training and valid sets\n",
    "test_sample = test_sample1+test_sample2\n",
    "valid_sample = valid_sample1 + valid_sample2\n",
    "training_sample = training_sample1+training_sample2"
   ]
  },
  {
   "cell_type": "code",
   "execution_count": 13,
   "id": "0ad8284b",
   "metadata": {},
   "outputs": [],
   "source": [
    "#Get corresponding jpg\n",
    "training_FABP7 = [] \n",
    "valid_FABP7 = [] \n",
    "test_FABP7 = []\n",
    "for i in range(len(training_sample)):\n",
    "    name = training_sample[i].replace('drg2/csv', 'drg2/image')\n",
    "    name = name.replace('csv', 'jpg')\n",
    "    path = name\n",
    "    training_FABP7.append(path)\n",
    "for i in range(len(test_sample)):\n",
    "    name = test_sample[i].replace('drg2/csv', 'drg2/image')\n",
    "    name = name.replace('csv', 'jpg')\n",
    "    path = name\n",
    "    test_FABP7.append(path)\n",
    "for i in range(len(valid_sample)):\n",
    "    name = valid_sample[i].replace('drg2/csv', 'drg2/image')\n",
    "    name = name.replace('csv', 'jpg')\n",
    "    path = name\n",
    "    valid_FABP7.append(path)"
   ]
  },
  {
   "cell_type": "code",
   "execution_count": 14,
   "id": "95adf639",
   "metadata": {},
   "outputs": [],
   "source": [
    "#Get HE Images for Yolov8\n",
    "training_He = [] \n",
    "valid_He = [] \n",
    "test_He = []\n",
    "for i in range(len(training_sample)):\n",
    "    name = training_sample[i].replace('drg2/csv/SegTrans', 'drg2/he/he')\n",
    "    name = name.replace('csv', 'jpg')\n",
    "    path = name\n",
    "    training_He.append(path)\n",
    "for i in range(len(test_sample)):\n",
    "    name = test_sample[i].replace('drg2/csv/SegTrans', 'drg2/he/he')\n",
    "    name = name.replace('csv', 'jpg')\n",
    "    path = name\n",
    "    test_He.append(path)\n",
    "for i in range(len(valid_sample)):\n",
    "    name = valid_sample[i].replace('drg2/csv/SegTrans', 'drg2/he/he')\n",
    "    name = name.replace('csv', 'jpg')\n",
    "    path = name\n",
    "    valid_He.append(path)"
   ]
  },
  {
   "cell_type": "code",
   "execution_count": 15,
   "id": "9587b35a",
   "metadata": {},
   "outputs": [],
   "source": [
    "#Copy Everything to the Channels\n",
    "#Copy Everything to The New Dataset for Training\n",
    "#New Folder Below\n",
    "import os\n",
    "path = \"/media/yhs/5596744f-db7c-442f-9235-d0c9d50c0a6b/export/Split_Batch2/drg2/\"\n",
    "os.makedirs(path, exist_ok = True)\n",
    "os.makedirs(path+\"st/Train\", exist_ok = True)\n",
    "os.makedirs(path+\"st/Test\", exist_ok = True)\n",
    "os.makedirs(path+\"st/Valid\", exist_ok = True)\n",
    "for i in range(len(training_FABP7)):\n",
    "    shutil.copy(training_FABP7[i], path+\"st/Train\")\n",
    "for i in range(len(test_FABP7)):\n",
    "    shutil.copy(test_FABP7[i], path+\"st/Test\")\n",
    "for i in range(len(valid_FABP7)):\n",
    "    shutil.copy(valid_FABP7[i], path+\"st/Valid\")"
   ]
  },
  {
   "cell_type": "code",
   "execution_count": 16,
   "id": "aad4ce32",
   "metadata": {},
   "outputs": [],
   "source": [
    "#Copy Everything to The New Dataset for Training\n",
    "#CSVs, TXTs, and H&E Stains\n",
    "os.makedirs(path+\"he/Train\", exist_ok = True)\n",
    "os.makedirs(path+\"he/Test\", exist_ok = True)\n",
    "os.makedirs(path+\"he/Valid\", exist_ok = True)\n",
    "os.makedirs(path+\"csv/Train\", exist_ok = True)\n",
    "os.makedirs(path+\"csv/Test\", exist_ok = True)\n",
    "os.makedirs(path+\"csv/Valid\", exist_ok = True)\n",
    "for i in range(len(training_sample)):\n",
    "    shutil.copy(training_sample[i], path+\"csv/Train\")\n",
    "for i in range(len(test_sample)):\n",
    "    shutil.copy(test_sample[i], path+\"csv/Test\")\n",
    "for i in range(len(valid_sample)):\n",
    "    shutil.copy(valid_sample[i], path+\"csv/Valid\")\n",
    "for i in range(len(training_He)):\n",
    "    shutil.copy(training_He[i], path+\"he/Train\")\n",
    "for i in range(len(test_He)):\n",
    "    shutil.copy(test_He[i], path+\"he/Test\")\n",
    "for i in range(len(valid_He)):\n",
    "    shutil.copy(valid_He[i], path+\"he/Valid\")"
   ]
  }
 ],
 "metadata": {
  "kernelspec": {
   "display_name": "Python 3",
   "language": "python",
   "name": "python3"
  },
  "language_info": {
   "codemirror_mode": {
    "name": "ipython",
    "version": 3
   },
   "file_extension": ".py",
   "mimetype": "text/x-python",
   "name": "python",
   "nbconvert_exporter": "python",
   "pygments_lexer": "ipython3",
   "version": "3.8.8"
  }
 },
 "nbformat": 4,
 "nbformat_minor": 5
}
