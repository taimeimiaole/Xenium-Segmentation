{
 "cells": [
  {
   "cell_type": "code",
   "execution_count": 1,
   "id": "17d05e19",
   "metadata": {},
   "outputs": [],
   "source": [
    "from PIL import Image\n",
    "\n",
    "def crop_image_to_tiff(input_path, output_path, top_left, bottom_right):\n",
    "    \"\"\"\n",
    "    Crop an image and save it as a TIFF file.\n",
    "\n",
    "    Parameters:\n",
    "    - input_path (str): Path to the input image.\n",
    "    - output_path (str): Path to save the cropped TIFF image.\n",
    "    - top_left (tuple): (x, y) coordinates of the top-left corner.\n",
    "    - bottom_right (tuple): (x, y) coordinates of the bottom-right corner.\n",
    "    \"\"\"\n",
    "    with Image.open(input_path) as img:\n",
    "        cropped_img = img.crop((*top_left, *bottom_right))\n",
    "        cropped_img.save(output_path, format='TIFF', quality = 100)\n",
    "        print(f\"Cropped image saved as TIFF to {output_path}\")\n"
   ]
  },
  {
   "cell_type": "code",
   "execution_count": 19,
   "id": "3fcf5e84",
   "metadata": {},
   "outputs": [
    {
     "name": "stdout",
     "output_type": "stream",
     "text": [
      "Cropped image saved as TIFF to /media/yhs/5596744f-db7c-442f-9235-d0c9d50c0a6b/Cellpose/DRG123_Merged_New/DRG Merged Images/DRG1/Cropped/DRG1_CellposeMerged.tif\n"
     ]
    }
   ],
   "source": [
    "#coordinates are formatted x, y\n",
    "crop_image_to_tiff(\n",
    "    input_path=\"/media/yhs/5596744f-db7c-442f-9235-d0c9d50c0a6b/Cellpose/DRG123_Merged_New/DRG Merged Images/DRG1/DRG1_CellposeMerged_ST.tif\",\n",
    "    output_path=\"/media/yhs/5596744f-db7c-442f-9235-d0c9d50c0a6b/Cellpose/DRG123_Merged_New/DRG Merged Images/DRG1/Cropped/DRG1_CellposeMerged.tif\",\n",
    "    top_left= (2346, 1664),\n",
    "    bottom_right=(2846, 2164)\n",
    ")"
   ]
  },
  {
   "cell_type": "code",
   "execution_count": null,
   "id": "849b1de0",
   "metadata": {},
   "outputs": [],
   "source": [
    "#Adjusted\n",
    "## DRG 4 (844, 103) to (3273, 3657)\n",
    "## DRG 1 (348, 156) to (4148, 3956)\n",
    "## TG 1 (608, 4224) to (6878, 13728)"
   ]
  },
  {
   "cell_type": "code",
   "execution_count": null,
   "id": "45ee773e",
   "metadata": {},
   "outputs": [],
   "source": [
    "#Cropped\n",
    "##DRG 4 (2577, 1745) to (3077, 2245)\n",
    "##DRG 1 (2346, 1664) to (2846, 2164)\n",
    "##TG 1 (6447, 5581) to (6947, 6081)"
   ]
  },
  {
   "cell_type": "code",
   "execution_count": null,
   "id": "36a232f5",
   "metadata": {},
   "outputs": [],
   "source": [
    "#Note for DB Scan \n",
    "# (2000, 3000) to (2500, 3500)"
   ]
  }
 ],
 "metadata": {
  "kernelspec": {
   "display_name": "Python 3",
   "language": "python",
   "name": "python3"
  },
  "language_info": {
   "codemirror_mode": {
    "name": "ipython",
    "version": 3
   },
   "file_extension": ".py",
   "mimetype": "text/x-python",
   "name": "python",
   "nbconvert_exporter": "python",
   "pygments_lexer": "ipython3",
   "version": "3.8.8"
  }
 },
 "nbformat": 4,
 "nbformat_minor": 5
}
