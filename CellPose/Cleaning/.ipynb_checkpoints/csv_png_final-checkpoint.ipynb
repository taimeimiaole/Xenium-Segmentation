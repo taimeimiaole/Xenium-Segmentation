{
 "cells": [
  {
   "cell_type": "code",
   "execution_count": 79,
   "id": "5d61e333-bc54-4c50-92a3-a70bf978adaa",
   "metadata": {
    "tags": []
   },
   "outputs": [],
   "source": [
    "import pandas as pd\n",
    "import os\n",
    "import re\n",
    "import cv2\n",
    "import numpy as np\n",
    "from PIL import Image"
   ]
  },
  {
   "cell_type": "code",
   "execution_count": 89,
   "id": "706351cb-8a57-403b-b852-53b5ea0675e5",
   "metadata": {
    "tags": []
   },
   "outputs": [],
   "source": [
    "def csv_png(filename, height, width):\n",
    "    rois = pd.read_csv(filename)\n",
    "    image_height = height\n",
    "    image_width = width\n",
    "    grouped_rois = rois.groupby('Name')\n",
    "    count = 1\n",
    "    masks = []\n",
    "    for id, group in grouped_rois:\n",
    "        single_mask = np.zeros((image_height, image_width), dtype=np.uint8)\n",
    "        polygon = [(y, x) for x, y in zip(group['X'], group['Y'])]\n",
    "        pts = np.array(polygon, dtype=np.int32)\n",
    "        pts = pts.reshape((-1, 1, 2))\n",
    "        cv2.fillPoly(single_mask, [pts], color=count)\n",
    "        masks.append(single_mask)\n",
    "        count += 1\n",
    "    masks_array = np.stack(masks, axis=0)\n",
    "    combined = np.max(masks_array, axis = 0)\n",
    "    return combined"
   ]
  },
  {
   "cell_type": "code",
   "execution_count": 90,
   "id": "5fc97b48-10ef-475a-a92e-5d9f21fd9e9a",
   "metadata": {
    "tags": []
   },
   "outputs": [],
   "source": [
    "directory = '/Users/kevinshen/Desktop/Research/PURM/YoloV8 and Cellpose/DRG_Dataset1/Txt/Train'"
   ]
  },
  {
   "cell_type": "code",
   "execution_count": 91,
   "id": "0152e02c-fe8a-44b1-909d-713be2f7a964",
   "metadata": {
    "tags": []
   },
   "outputs": [],
   "source": [
    "for filename in os.listdir(directory):\n",
    "    if 'csv' in filename:\n",
    "        imarr = csv_png(os.path.join(directory, filename), 500, 500)\n",
    "        im = Image.fromarray(imarr)\n",
    "        im.save(os.path.join(directory, f''+filename.replace('.csv','.png')))"
   ]
  },
  {
   "cell_type": "code",
   "execution_count": null,
   "id": "0294db87-e565-4366-9bf6-4bd10ce813b4",
   "metadata": {},
   "outputs": [],
   "source": []
  }
 ],
 "metadata": {
  "kernelspec": {
   "display_name": "Python 3 (ipykernel)",
   "language": "python",
   "name": "python3"
  },
  "language_info": {
   "codemirror_mode": {
    "name": "ipython",
    "version": 3
   },
   "file_extension": ".py",
   "mimetype": "text/x-python",
   "name": "python",
   "nbconvert_exporter": "python",
   "pygments_lexer": "ipython3",
   "version": "3.10.12"
  }
 },
 "nbformat": 4,
 "nbformat_minor": 5
}
